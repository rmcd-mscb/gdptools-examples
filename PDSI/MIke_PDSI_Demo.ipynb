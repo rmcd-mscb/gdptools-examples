{
 "cells": [
  {
   "cell_type": "code",
   "execution_count": null,
   "id": "01132080-8e44-4734-9c27-6b7cea85a68d",
   "metadata": {},
   "outputs": [],
   "source": [
    "import xarray as xr\n",
    "import geopandas as gpd\n",
    "\n",
    "ds = xr.open_dataset('../../../../data/Mikes_basins/pdsi_gages2_1960_2020.nc')\n",
    "gdf = gpd.read_file('../../../../data/Mikes_basins/Mikes_basins.shp')\n"
   ]
  },
  {
   "cell_type": "code",
   "execution_count": null,
   "id": "81d53bd7-2096-4446-bb23-753fb913cf59",
   "metadata": {},
   "outputs": [],
   "source": [
    "gdf['pdsi'] = ds.PDSI.values[:,0]"
   ]
  },
  {
   "cell_type": "code",
   "execution_count": null,
   "id": "2ca421e4-2f49-441d-8527-cf69c91391ea",
   "metadata": {},
   "outputs": [],
   "source": [
    "gdf.plot(column='pdsi', alpha=0.5, legend=True)"
   ]
  },
  {
   "cell_type": "code",
   "execution_count": null,
   "id": "63b65088-224d-453a-9eb6-2d93d7be35e2",
   "metadata": {},
   "outputs": [],
   "source": [
    "gdf"
   ]
  },
  {
   "cell_type": "code",
   "execution_count": null,
   "id": "914a1624-f1d2-4293-b6b2-47f8ee9819cb",
   "metadata": {},
   "outputs": [],
   "source": [
    "ds.PDSI.plot()"
   ]
  },
  {
   "cell_type": "code",
   "execution_count": null,
   "id": "e580e55b-04c9-4e96-99ed-1826c62250d9",
   "metadata": {},
   "outputs": [],
   "source": [
    "pdsi_1 = ds.PDSI"
   ]
  },
  {
   "cell_type": "code",
   "execution_count": null,
   "id": "79ecdd1c-afc8-42c1-9031-a042181bdb89",
   "metadata": {},
   "outputs": [],
   "source": [
    "pdsi_1.isel(OBJECTID=9).plot()"
   ]
  },
  {
   "cell_type": "code",
   "execution_count": null,
   "id": "dbc84c27-880b-4916-9339-199708ed837b",
   "metadata": {},
   "outputs": [],
   "source": []
  }
 ],
 "metadata": {
  "kernelspec": {
   "display_name": "Python 3 (ipykernel)",
   "language": "python",
   "name": "python3"
  },
  "language_info": {
   "codemirror_mode": {
    "name": "ipython",
    "version": 3
   },
   "file_extension": ".py",
   "mimetype": "text/x-python",
   "name": "python",
   "nbconvert_exporter": "python",
   "pygments_lexer": "ipython3",
   "version": "3.9.12"
  }
 },
 "nbformat": 4,
 "nbformat_minor": 5
}
